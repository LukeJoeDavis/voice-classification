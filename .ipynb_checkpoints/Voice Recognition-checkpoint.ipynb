{
 "cells": [
  {
   "cell_type": "code",
<<<<<<< HEAD
   "execution_count": 1,
=======
   "execution_count": 5,
>>>>>>> 7c71af06ca1022ba0390408a3da409237454ff02
   "metadata": {
    "collapsed": true
   },
   "outputs": [],
   "source": [
    "import urllib.request\n",
    "import scipy\n",
    "from bs4 import *\n",
    "import requests\n",
    "from selenium import webdriver\n",
    "import os\n",
    "import lxml"
   ]
  },
  {
   "cell_type": "code",
   "execution_count": 3,
   "metadata": {
    "collapsed": true
   },
   "outputs": [],
   "source": [
    "# with urllib.request.urlopen(\"https://librivox.org/search?primary_key=0&search_category=title&search_page=1&search_form=get_results\") as url:\n",
    "#     html = url.read()\n",
    "\n",
    "from selenium.webdriver.common.by import By\n",
    "from selenium.webdriver.support.ui import WebDriverWait\n",
    "from selenium.webdriver.support import expected_conditions as EC\n",
    "\n",
    "counter = 27\n",
    "for i in range(3, 455):\n",
    "    print(i)\n",
    "    url = \"https://librivox.org/search?primary_key=0&search_category=title&search_page={}&search_form=get_results\".format(i)\n",
    "    browser = webdriver.PhantomJS(r'''C:\\phantomjs-2.1.1-windows\\bin\\phantomjs''')\n",
    "    browser.get(url)\n",
    "\n",
    "    element = WebDriverWait(browser, 10).until(\n",
    "        EC.presence_of_element_located((By.CLASS_NAME , \"catalog-result\"))\n",
    "    )\n",
    "\n",
    "    html = browser.page_source\n",
    "    soup = BeautifulSoup(html, 'html5lib')    \n",
    "\n",
    "    links = []\n",
    "    for ultag in soup.find_all('ul', {'class': 'browse-list'}):\n",
    "        for litag in ultag.find_all('li', {'class': 'catalog-result'}):\n",
    "                 for dtag in litag.find_all('div', {'class': 'download-btn'}):\n",
    "    #                 print(dtag.span.text)\n",
    "    #                 print(dtag.a['href'])\n",
    "                    x = dtag.span.text\n",
    "                    x = x.replace('MB','')\n",
    "                    if float(x) >= 50 and float(x) <= 200:\n",
    "                        links.append(dtag.a['href'])\n",
    "    browser.quit()\n",
    "    \n",
    "    for link in links:\n",
    "        localDestination = \"./audio/audio{}.zip\".format(counter)\n",
    "        resultFilePath, responseHeaders = urllib.request.urlretrieve(link, localDestination)\n",
    "        counter += 1\n",
    "        \n",
    "## Start at page 11"
   ]
  },
  {
   "cell_type": "markdown",
   "metadata": {},
   "source": [
    "## Audio Cleaning"
   ]
  },
  {
   "cell_type": "code",
<<<<<<< HEAD
=======
   "execution_count": 1,
   "metadata": {},
   "outputs": [
    {
     "ename": "ImportError",
     "evalue": "No module named 'pydub'",
     "output_type": "error",
     "traceback": [
      "\u001b[1;31m---------------------------------------------------------------------------\u001b[0m",
      "\u001b[1;31mImportError\u001b[0m                               Traceback (most recent call last)",
      "\u001b[1;32m<ipython-input-1-be242a96c169>\u001b[0m in \u001b[0;36m<module>\u001b[1;34m()\u001b[0m\n\u001b[1;32m----> 1\u001b[1;33m \u001b[1;32mfrom\u001b[0m \u001b[0mpydub\u001b[0m \u001b[1;32mimport\u001b[0m \u001b[0mAudioSegment\u001b[0m\u001b[1;33m\u001b[0m\u001b[0m\n\u001b[0m",
      "\u001b[1;31mImportError\u001b[0m: No module named 'pydub'"
     ]
    }
   ],
   "source": [
    "from pydub import AudioSegment"
   ]
  },
  {
   "cell_type": "code",
>>>>>>> 7c71af06ca1022ba0390408a3da409237454ff02
   "execution_count": null,
   "metadata": {
    "collapsed": true
   },
   "outputs": [],
   "source": []
  }
 ],
 "metadata": {
  "kernelspec": {
   "display_name": "Python 3",
   "language": "python",
   "name": "python3"
  },
  "language_info": {
   "codemirror_mode": {
    "name": "ipython",
    "version": 3
   },
   "file_extension": ".py",
   "mimetype": "text/x-python",
   "name": "python",
   "nbconvert_exporter": "python",
   "pygments_lexer": "ipython3",
<<<<<<< HEAD
   "version": "3.6.0"
=======
   "version": "3.5.4"
>>>>>>> 7c71af06ca1022ba0390408a3da409237454ff02
  }
 },
 "nbformat": 4,
 "nbformat_minor": 2
}
